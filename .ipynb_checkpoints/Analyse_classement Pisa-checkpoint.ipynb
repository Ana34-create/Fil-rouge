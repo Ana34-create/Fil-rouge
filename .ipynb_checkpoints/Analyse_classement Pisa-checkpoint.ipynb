{
 "cells": [
  {
   "cell_type": "code",
   "execution_count": 3,
   "id": "44daac07-733d-426b-9361-bbe585503259",
   "metadata": {},
   "outputs": [
    {
     "data": {
      "text/html": [
       "<div>\n",
       "<style scoped>\n",
       "    .dataframe tbody tr th:only-of-type {\n",
       "        vertical-align: middle;\n",
       "    }\n",
       "\n",
       "    .dataframe tbody tr th {\n",
       "        vertical-align: top;\n",
       "    }\n",
       "\n",
       "    .dataframe thead th {\n",
       "        text-align: right;\n",
       "    }\n",
       "</style>\n",
       "<table border=\"1\" class=\"dataframe\">\n",
       "  <thead>\n",
       "    <tr style=\"text-align: right;\">\n",
       "      <th></th>\n",
       "      <th>Country</th>\n",
       "      <th>Mean_Score</th>\n",
       "      <th>Std_Dev</th>\n",
       "      <th>Median</th>\n",
       "      <th>Diff_90_10</th>\n",
       "    </tr>\n",
       "  </thead>\n",
       "  <tbody>\n",
       "    <tr>\n",
       "      <th>0</th>\n",
       "      <td>Albania</td>\n",
       "      <td>368</td>\n",
       "      <td>85</td>\n",
       "      <td>361</td>\n",
       "      <td>216</td>\n",
       "    </tr>\n",
       "    <tr>\n",
       "      <th>1</th>\n",
       "      <td>Argentina</td>\n",
       "      <td>378</td>\n",
       "      <td>74</td>\n",
       "      <td>372</td>\n",
       "      <td>190</td>\n",
       "    </tr>\n",
       "    <tr>\n",
       "      <th>2</th>\n",
       "      <td>Baku</td>\n",
       "      <td>397</td>\n",
       "      <td>85</td>\n",
       "      <td>393</td>\n",
       "      <td>221</td>\n",
       "    </tr>\n",
       "    <tr>\n",
       "      <th>3</th>\n",
       "      <td>Brazil</td>\n",
       "      <td>379</td>\n",
       "      <td>77</td>\n",
       "      <td>370</td>\n",
       "      <td>194</td>\n",
       "    </tr>\n",
       "    <tr>\n",
       "      <th>4</th>\n",
       "      <td>Brunei Darussalam</td>\n",
       "      <td>442</td>\n",
       "      <td>84</td>\n",
       "      <td>437</td>\n",
       "      <td>219</td>\n",
       "    </tr>\n",
       "  </tbody>\n",
       "</table>\n",
       "</div>"
      ],
      "text/plain": [
       "             Country  Mean_Score  Std_Dev  Median  Diff_90_10\n",
       "0            Albania         368       85     361         216\n",
       "1          Argentina         378       74     372         190\n",
       "2               Baku         397       85     393         221\n",
       "3             Brazil         379       77     370         194\n",
       "4  Brunei Darussalam         442       84     437         219"
      ]
     },
     "execution_count": 3,
     "metadata": {},
     "output_type": "execute_result"
    }
   ],
   "source": [
    "import pandas as pd\n",
    "df = pd.read_csv(\"Classement PISA maths 2023.csv\", sep=',')\n",
    "df.head()\n"
   ]
  },
  {
   "cell_type": "code",
   "execution_count": 13,
   "id": "fe408893-e566-4d3b-95b7-a104e52ab2d0",
   "metadata": {},
   "outputs": [
    {
     "data": {
      "image/png": "[encoded data removed]",
      "text/plain": [
       "<Figure size 640x480 with 1 Axes>"
      ]
     },
     "metadata": {},
     "output_type": "display_data"
    }
   ],
   "source": [
    "import matplotlib.pyplot as plt\n",
    "import numpy as np\n",
    "import seaborn as sbn\n",
    "\n",
    "plt.boxplot(df.Mean_Score)\n",
    "plt.show()"
   ]
  },
  {
   "cell_type": "code",
   "execution_count": 19,
   "id": "cdded87e-081b-4a45-bbdd-4a00482d017a",
   "metadata": {},
   "outputs": [
    {
     "data": {
      "text/html": [
       "<div>\n",
       "<style scoped>\n",
       "    .dataframe tbody tr th:only-of-type {\n",
       "        vertical-align: middle;\n",
       "    }\n",
       "\n",
       "    .dataframe tbody tr th {\n",
       "        vertical-align: top;\n",
       "    }\n",
       "\n",
       "    .dataframe thead th {\n",
       "        text-align: right;\n",
       "    }\n",
       "</style>\n",
       "<table border=\"1\" class=\"dataframe\">\n",
       "  <thead>\n",
       "    <tr style=\"text-align: right;\">\n",
       "      <th></th>\n",
       "      <th>Country</th>\n",
       "      <th>Mean_Score</th>\n",
       "      <th>Std_Dev</th>\n",
       "      <th>Median</th>\n",
       "      <th>Diff_90_10</th>\n",
       "    </tr>\n",
       "  </thead>\n",
       "  <tbody>\n",
       "    <tr>\n",
       "      <th>7</th>\n",
       "      <td>Croatia</td>\n",
       "      <td>463</td>\n",
       "      <td>88</td>\n",
       "      <td>459</td>\n",
       "      <td>230</td>\n",
       "    </tr>\n",
       "    <tr>\n",
       "      <th>13</th>\n",
       "      <td>Hong Kong*</td>\n",
       "      <td>540</td>\n",
       "      <td>105</td>\n",
       "      <td>545</td>\n",
       "      <td>274</td>\n",
       "    </tr>\n",
       "    <tr>\n",
       "      <th>19</th>\n",
       "      <td>Macao</td>\n",
       "      <td>552</td>\n",
       "      <td>92</td>\n",
       "      <td>554</td>\n",
       "      <td>241</td>\n",
       "    </tr>\n",
       "    <tr>\n",
       "      <th>21</th>\n",
       "      <td>Malta</td>\n",
       "      <td>466</td>\n",
       "      <td>99</td>\n",
       "      <td>469</td>\n",
       "      <td>259</td>\n",
       "    </tr>\n",
       "    <tr>\n",
       "      <th>36</th>\n",
       "      <td>Singapore</td>\n",
       "      <td>575</td>\n",
       "      <td>103</td>\n",
       "      <td>582</td>\n",
       "      <td>268</td>\n",
       "    </tr>\n",
       "    <tr>\n",
       "      <th>37</th>\n",
       "      <td>ChineseTaipei</td>\n",
       "      <td>547</td>\n",
       "      <td>112</td>\n",
       "      <td>554</td>\n",
       "      <td>294</td>\n",
       "    </tr>\n",
       "    <tr>\n",
       "      <th>43</th>\n",
       "      <td>Viet Nam</td>\n",
       "      <td>469</td>\n",
       "      <td>86</td>\n",
       "      <td>469</td>\n",
       "      <td>220</td>\n",
       "    </tr>\n",
       "  </tbody>\n",
       "</table>\n",
       "</div>"
      ],
      "text/plain": [
       "          Country  Mean_Score  Std_Dev  Median  Diff_90_10\n",
       "7         Croatia         463       88     459         230\n",
       "13     Hong Kong*         540      105     545         274\n",
       "19          Macao         552       92     554         241\n",
       "21          Malta         466       99     469         259\n",
       "36      Singapore         575      103     582         268\n",
       "37  ChineseTaipei         547      112     554         294\n",
       "43       Viet Nam         469       86     469         220"
      ]
     },
     "execution_count": 19,
     "metadata": {},
     "output_type": "execute_result"
    }
   ],
   "source": [
    "df[(df[\"Mean_Score\"] > 450)]"
   ]
  },
  {
   "cell_type": "code",
   "execution_count": 21,
   "id": "cdd13752-4c88-4ab1-9761-180bd7955ee4",
   "metadata": {},
   "outputs": [
    {
     "data": {
      "image/png": "[encoded data removed]",
      "text/plain": [
       "<Figure size 640x480 with 1 Axes>"
      ]
     },
     "metadata": {},
     "output_type": "display_data"
    }
   ],
   "source": [
    "plt.boxplot(df.Diff_90_10)\n",
    "plt.show()"
   ]
  },
  {
   "cell_type": "code",
   "execution_count": 25,
   "id": "b740bb26-a0ed-4c2f-8096-15c9d795cfef",
   "metadata": {},
   "outputs": [
    {
     "name": "stdout",
     "output_type": "stream",
     "text": [
      "                Country  Mean_Score  Std_Dev  Median  Diff_90_10\n",
      "37        ChineseTaipei         547      112     554         294\n",
      "13           Hong Kong*         540      105     545         274\n",
      "36            Singapore         575      103     582         268\n",
      "40  UnitedArab Emirates         431      101     423         264\n",
      "8                Cyprus         418      101     411         262\n"
     ]
    }
   ],
   "source": [
    "top5 = df.sort_values(by='Diff_90_10', ascending=False).head(5)\n",
    "\n",
    "print(top5)"
   ]
  },
  {
   "cell_type": "code",
   "execution_count": null,
   "id": "31b66cb6-1fb9-4edd-9191-c683eba25b4d",
   "metadata": {},
   "outputs": [],
   "source": [
    "#3 des pays avec le meilleur résultats sont aussi ceux qui ont le Diff_90_10 le plus élevé"
   ]
  }
 ],
 "metadata": {
  "kernelspec": {
   "display_name": "Python [conda env:base] *",
   "language": "python",
   "name": "conda-base-py"
  },
  "language_info": {
   "codemirror_mode": {
    "name": "ipython",
    "version": 3
   },
   "file_extension": ".py",
   "mimetype": "text/x-python",
   "name": "python",
   "nbconvert_exporter": "python",
   "pygments_lexer": "ipython3",
   "version": "3.12.7"
  }
 },
 "nbformat": 4,
 "nbformat_minor": 5
}
