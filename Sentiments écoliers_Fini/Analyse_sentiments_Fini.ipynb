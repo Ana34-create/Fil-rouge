{
 "cells": [
  {
   "cell_type": "code",
   "execution_count": 1,
   "id": "2050e766-2a28-4463-aa57-f08582799080",
   "metadata": {},
   "outputs": [
    {
     "data": {
      "text/html": [
       "<div>\n",
       "<style scoped>\n",
       "    .dataframe tbody tr th:only-of-type {\n",
       "        vertical-align: middle;\n",
       "    }\n",
       "\n",
       "    .dataframe tbody tr th {\n",
       "        vertical-align: top;\n",
       "    }\n",
       "\n",
       "    .dataframe thead th {\n",
       "        text-align: right;\n",
       "    }\n",
       "</style>\n",
       "<table border=\"1\" class=\"dataframe\">\n",
       "  <thead>\n",
       "    <tr style=\"text-align: right;\">\n",
       "      <th></th>\n",
       "      <th>Country</th>\n",
       "      <th>High Sense of Belonging Percent</th>\n",
       "      <th>High Sense of Belonging Achievement</th>\n",
       "      <th>Some Sense of Belonging Percent</th>\n",
       "      <th>Some Sense of Belonging Achievement</th>\n",
       "      <th>Little Sense of Belonging Percent</th>\n",
       "      <th>Little Sense of Belonging Achievement</th>\n",
       "      <th>Avg Scale Score</th>\n",
       "    </tr>\n",
       "  </thead>\n",
       "  <tbody>\n",
       "    <tr>\n",
       "      <th>0</th>\n",
       "      <td>Armenia</td>\n",
       "      <td>76.0</td>\n",
       "      <td>519.0</td>\n",
       "      <td>19.0</td>\n",
       "      <td>511.0</td>\n",
       "      <td>4.3</td>\n",
       "      <td>502.0</td>\n",
       "      <td>11.9</td>\n",
       "    </tr>\n",
       "    <tr>\n",
       "      <th>1</th>\n",
       "      <td>Australia</td>\n",
       "      <td>54.0</td>\n",
       "      <td>536.0</td>\n",
       "      <td>32.0</td>\n",
       "      <td>522.0</td>\n",
       "      <td>14.0</td>\n",
       "      <td>514.0</td>\n",
       "      <td>11.0</td>\n",
       "    </tr>\n",
       "    <tr>\n",
       "      <th>2</th>\n",
       "      <td>Azerbaijan</td>\n",
       "      <td>72.0</td>\n",
       "      <td>508.0</td>\n",
       "      <td>22.0</td>\n",
       "      <td>492.0</td>\n",
       "      <td>7.0</td>\n",
       "      <td>475.0</td>\n",
       "      <td>9.9</td>\n",
       "    </tr>\n",
       "    <tr>\n",
       "      <th>3</th>\n",
       "      <td>Bahrain</td>\n",
       "      <td>66.0</td>\n",
       "      <td>472.0</td>\n",
       "      <td>24.0</td>\n",
       "      <td>455.0</td>\n",
       "      <td>10.0</td>\n",
       "      <td>445.0</td>\n",
       "      <td>10.7</td>\n",
       "    </tr>\n",
       "    <tr>\n",
       "      <th>4</th>\n",
       "      <td>Belgium Flemish</td>\n",
       "      <td>52.0</td>\n",
       "      <td>531.0</td>\n",
       "      <td>35.0</td>\n",
       "      <td>522.0</td>\n",
       "      <td>14.0</td>\n",
       "      <td>499.0</td>\n",
       "      <td>10.4</td>\n",
       "    </tr>\n",
       "  </tbody>\n",
       "</table>\n",
       "</div>"
      ],
      "text/plain": [
       "           Country  High Sense of Belonging Percent  \\\n",
       "0          Armenia                             76.0   \n",
       "1        Australia                             54.0   \n",
       "2       Azerbaijan                             72.0   \n",
       "3          Bahrain                             66.0   \n",
       "4  Belgium Flemish                             52.0   \n",
       "\n",
       "   High Sense of Belonging Achievement  Some Sense of Belonging Percent  \\\n",
       "0                                519.0                             19.0   \n",
       "1                                536.0                             32.0   \n",
       "2                                508.0                             22.0   \n",
       "3                                472.0                             24.0   \n",
       "4                                531.0                             35.0   \n",
       "\n",
       "   Some Sense of Belonging Achievement  Little Sense of Belonging Percent  \\\n",
       "0                                511.0                                4.3   \n",
       "1                                522.0                               14.0   \n",
       "2                                492.0                                7.0   \n",
       "3                                455.0                               10.0   \n",
       "4                                522.0                               14.0   \n",
       "\n",
       "   Little Sense of Belonging Achievement  Avg Scale Score  \n",
       "0                                  502.0             11.9  \n",
       "1                                  514.0             11.0  \n",
       "2                                  475.0              9.9  \n",
       "3                                  445.0             10.7  \n",
       "4                                  499.0             10.4  "
      ]
     },
     "execution_count": 1,
     "metadata": {},
     "output_type": "execute_result"
    }
   ],
   "source": [
    "import pandas as pd\n",
    "df = pd.read_csv(\"Sentiment d'app. des écoliers.csv\", sep=',')\n",
    "df.head()\n"
   ]
  },
  {
   "cell_type": "code",
   "execution_count": 14,
   "id": "398d9298-d06a-4d38-8922-55a631bc3bb1",
   "metadata": {},
   "outputs": [
    {
     "data": {
      "text/plain": [
       "(67, 7)"
      ]
     },
     "execution_count": 14,
     "metadata": {},
     "output_type": "execute_result"
    }
   ],
   "source": [
    "df.shape\n"
   ]
  },
  {
   "cell_type": "code",
   "execution_count": 18,
   "id": "6640cfef-6a25-4599-b975-5919d6635a34",
   "metadata": {},
   "outputs": [
    {
     "data": {
      "text/plain": [
       "Index(['Country', 'High Sense of Belonging Percent',\n",
       "       'High Sense of Belonging Achievement',\n",
       "       'Some Sense of Belonging Percent',\n",
       "       'Some Sense of Belonging Achievement',\n",
       "       'Little Sense of Belonging Percent',\n",
       "       'Little Sense of Belonging Achievement', 'Avg Scale Score'],\n",
       "      dtype='object')"
      ]
     },
     "execution_count": 18,
     "metadata": {},
     "output_type": "execute_result"
    }
   ],
   "source": [
    "df.columns\n"
   ]
  },
  {
   "cell_type": "code",
   "execution_count": 22,
   "id": "219a1448-9478-42b9-aff6-159ecb4e459e",
   "metadata": {},
   "outputs": [
    {
     "name": "stdout",
     "output_type": "stream",
     "text": [
      "Corrélation Pearson: 0.2165896936797982, p-value: 0.08819336331204464\n"
     ]
    }
   ],
   "source": [
    "from scipy.stats import pearsonr\n",
    "\n",
    "corr_p, p_value_p = pearsonr(df['High Sense of Belonging Percent'], df['Avg Scale Score'])\n",
    "print(f\"Corrélation Pearson: {corr_p}, p-value: {p_value_p}\")\n"
   ]
  },
  {
   "cell_type": "code",
   "execution_count": 24,
   "id": "3ba30136-b25e-490d-9f74-a6c4d08606c3",
   "metadata": {},
   "outputs": [
    {
     "name": "stdout",
     "output_type": "stream",
     "text": [
      "Corrélation Pearson: -0.21326349278497175, p-value: 0.09330870246868547\n"
     ]
    }
   ],
   "source": [
    "from scipy.stats import pearsonr\n",
    "\n",
    "corr_p, p_value_p = pearsonr(df['Some Sense of Belonging Percent'], df['Avg Scale Score'])\n",
    "print(f\"Corrélation Pearson: {corr_p}, p-value: {p_value_p}\")"
   ]
  },
  {
   "cell_type": "code",
   "execution_count": 36,
   "id": "111960a1-a544-4c16-ac28-a990701ccb9b",
   "metadata": {},
   "outputs": [
    {
     "name": "stdout",
     "output_type": "stream",
     "text": [
      "Corrélation Spearman: 0.0189873417721519, p-value: 0.9464517521795947\n"
     ]
    }
   ],
   "source": [
    "from scipy.stats import spearmanr\n",
    "\n",
    "europe_ouest_fichier = [\n",
    "    \"Belgium Flemish\", \"Belgium French\",\"Czech Republic\",\"Denmark\",\"England\",\"Finland\",\"France\",\n",
    "    \"Georgia\",\"Germany\",\"Ireland\",\"Iceland\",\"Italy\",\"Malta\",\n",
    "    \"Netherlands\",\"Norway\"\n",
    "]\n",
    "# Filtrer ton dataframe df pour garder seulement ces pays\n",
    "df_europe = df[df['Country'].isin(europe_ouest_fichier)]\n",
    "\n",
    "corr, p_value = spearmanr(df_europe[\"High Sense of Belonging Percent\"], df_europe[\"Avg Scale Score\"])\n",
    "print(f\"Corrélation Spearman: {corr}, p-value: {p_value}\")"
   ]
  },
  {
   "cell_type": "code",
   "execution_count": null,
   "id": "b7ae16de-36db-4776-a455-eb29bddb21a0",
   "metadata": {},
   "outputs": [],
   "source": []
  }
 ],
 "metadata": {
  "kernelspec": {
   "display_name": "Python [conda env:base] *",
   "language": "python",
   "name": "conda-base-py"
  },
  "language_info": {
   "codemirror_mode": {
    "name": "ipython",
    "version": 3
   },
   "file_extension": ".py",
   "mimetype": "text/x-python",
   "name": "python",
   "nbconvert_exporter": "python",
   "pygments_lexer": "ipython3",
   "version": "3.12.7"
  }
 },
 "nbformat": 4,
 "nbformat_minor": 5
}
